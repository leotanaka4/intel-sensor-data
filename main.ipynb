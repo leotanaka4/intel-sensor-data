{
 "cells": [
  {
   "cell_type": "markdown",
   "metadata": {},
   "source": [
    "# Intel Berkeley Research Lab Sensor Data\n",
    "\n",
    "Data Collected from 54 sensors installed in the lab between Feb 28-Apr 5, 2004"
   ]
  },
  {
   "cell_type": "markdown",
   "metadata": {},
   "source": [
    "## About Dataset\n",
    "\n",
    "This data is collected from 54 sensors deployed in the Intel Berkeley Research lab between February 28th and April 5th, 2004.\n",
    "Mica2Dot sensors with weatherboards collected timestamped topology information, along with humidity, temperature, light, and voltage values once every 31 seconds. Data was collected using the TinyDB in-network query processing system, built on the TinyOS platform.\n",
    "\n",
    "The sensors were arranged in the lab according to the diagram shown below:\n",
    "\n",
    "This data was originally collected by Peter Bodik, Wei Hong, Carlos Guestrin, Sam Madden, Mark Paskin, and Romain Thibaux. Intel Berkeley provided hardware.\n",
    "\n",
    "The permission is granted by the authors to use or reproduce this data in any format or venue, given appropriate acknowledgment of their work is given in any published work."
   ]
  },
  {
   "cell_type": "markdown",
   "metadata": {},
   "source": [
    "## 1. Data collection"
   ]
  },
  {
   "cell_type": "code",
   "execution_count": 1,
   "metadata": {},
   "outputs": [
    {
     "name": "stdout",
     "output_type": "stream",
     "text": [
      "data.txt was converted to data.csv\n"
     ]
    }
   ],
   "source": [
    "input_file = \"data.txt\"\n",
    "output_file = \"data.csv\"\n",
    "\n",
    "with open(input_file, 'r') as infile, open(output_file, 'w') as outfile:\n",
    "    for line in infile:\n",
    "        outfile.write(line.replace(' ', ','))\n",
    "\n",
    "print(f\"{input_file} was converted to {output_file}\")"
   ]
  },
  {
   "cell_type": "code",
   "execution_count": 2,
   "metadata": {},
   "outputs": [
    {
     "name": "stdout",
     "output_type": "stream",
     "text": [
      "+----------+---------------+-----+------+-----------+--------+-----+-------+\n",
      "|      date|           time|epoch|moteid|temperature|humidity|light|voltage|\n",
      "+----------+---------------+-----+------+-----------+--------+-----+-------+\n",
      "|2004-03-31|03:38:15.757551|    2|     1|    122.153|-3.91901|11.04|2.03397|\n",
      "|2004-02-28| 00:59:16.02785|    3|     1|    19.9884| 37.0933|45.08|2.69964|\n",
      "|2004-02-28| 01:03:16.33393|   11|     1|    19.3024| 38.4629|45.08|2.68742|\n",
      "|2004-02-28|01:06:16.013453|   17|     1|    19.1652| 38.8039|45.08|2.68742|\n",
      "|2004-02-28|01:06:46.778088|   18|     1|     19.175| 38.8379|45.08|2.69964|\n",
      "|2004-02-28|01:08:45.992524|   22|     1|    19.1456| 38.9401|45.08|2.68742|\n",
      "|2004-02-28|01:09:22.323858|   23|     1|    19.1652|  38.872|45.08|2.68742|\n",
      "|2004-02-28|01:09:46.109598|   24|     1|    19.1652| 38.8039|45.08|2.68742|\n",
      "|2004-02-28|  01:10:16.6789|   25|     1|    19.1456| 38.8379|45.08|2.69964|\n",
      "|2004-02-28|01:10:46.250524|   26|     1|    19.1456|  38.872|45.08|2.68742|\n",
      "|2004-02-28|01:11:46.941288|   28|     1|    19.1456| 38.9401|45.08|2.69964|\n",
      "|2004-02-28|01:12:46.251377|   30|     1|    19.1358| 38.9061|45.08|2.68742|\n",
      "|2004-02-28| 01:14:16.63127|   33|     1|    19.1162| 38.8039|45.08|2.69964|\n",
      "|2004-02-28|01:14:46.569352|   34|     1|    19.1162|  38.872|45.08|2.69964|\n",
      "|2004-02-28|01:15:16.649556|   35|     1|    19.1064| 39.0082|45.08|2.69964|\n",
      "|2004-02-28|01:16:16.343708|   37|     1|    19.1064|  38.872|43.24|2.69964|\n",
      "|2004-02-28|01:16:46.508622|   38|     1|    19.0966| 38.8039|43.24|2.69964|\n",
      "|2004-02-28|01:17:46.427446|   40|     1|    19.0966| 38.7357|43.24|2.69964|\n",
      "|2004-02-28|01:18:16.468248|   41|     1|    19.0868| 38.8039|43.24|2.69964|\n",
      "|2004-02-28| 01:20:16.10774|   45|     1|    19.0672| 38.9061|43.24|2.68742|\n",
      "+----------+---------------+-----+------+-----------+--------+-----+-------+\n",
      "only showing top 20 rows\n",
      "\n"
     ]
    }
   ],
   "source": [
    "from pyspark.sql import SparkSession\n",
    "from pyspark.sql.types import (StructType, StructField, StringType, IntegerType, FloatType, TimestampType, DateType)\n",
    "\n",
    "# Definindo o esquema conforme a descrição fornecida\n",
    "schema = StructType([\n",
    "    StructField(\"date\", DateType(), True),\n",
    "   StructField(\"time\", StringType(), True),  # Aqui estamos assumindo que a coluna de tempo é uma string, mas você pode convertê-la para outro tipo se necessário.\n",
    "    StructField(\"epoch\", IntegerType(), True),\n",
    "    StructField(\"moteid\", IntegerType(), True),\n",
    "    StructField(\"temperature\", FloatType(), True),\n",
    "    StructField(\"humidity\", FloatType(), True),\n",
    "    StructField(\"light\", FloatType(), True),\n",
    "    StructField(\"voltage\", FloatType(), True)\n",
    "])\n",
    "\n",
    "# Criando uma sessão Spark\n",
    "spark = SparkSession.builder \\\n",
    "    .appName(\"Load TXT to DataFrame\") \\\n",
    "    .getOrCreate()\n",
    "\n",
    "# Nome do seu arquivo\n",
    "file_name = \"data.csv\"\n",
    "\n",
    "# Lendo o arquivo .txt (que é essencialmente um .csv)\n",
    "df = spark.read.csv(file_name, header=False, schema=schema)\n",
    "\n",
    "# Mostrando os primeiros registros do DataFrame\n",
    "df.show()"
   ]
  },
  {
   "cell_type": "code",
   "execution_count": 3,
   "metadata": {},
   "outputs": [],
   "source": [
    "# Encerrando a sessão Spark\n",
    "spark.stop()"
   ]
  }
 ],
 "metadata": {
  "kernelspec": {
   "display_name": "Python 3",
   "language": "python",
   "name": "python3"
  },
  "language_info": {
   "codemirror_mode": {
    "name": "ipython",
    "version": 3
   },
   "file_extension": ".py",
   "mimetype": "text/x-python",
   "name": "python",
   "nbconvert_exporter": "python",
   "pygments_lexer": "ipython3",
   "version": "3.10.4"
  },
  "orig_nbformat": 4
 },
 "nbformat": 4,
 "nbformat_minor": 2
}
